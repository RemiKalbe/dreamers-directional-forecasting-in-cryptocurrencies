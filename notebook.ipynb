version https://git-lfs.github.com/spec/v1
oid sha256:e4d10433a6eca40f38258d85ad15b35e9a87978a715f7baa80a744b2d94e9f05
size 406320
