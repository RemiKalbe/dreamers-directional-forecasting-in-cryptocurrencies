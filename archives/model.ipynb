version https://git-lfs.github.com/spec/v1
oid sha256:ba66c20a962636988a48c3fd2ecb20ef48903808055a32c9e92a5347beef7893
size 32154
